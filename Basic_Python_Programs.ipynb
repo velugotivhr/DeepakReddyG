{
  "nbformat": 4,
  "nbformat_minor": 0,
  "metadata": {
    "colab": {
      "provenance": [],
      "authorship_tag": "ABX9TyPewvAxSv2jncV6tzOgtd0s",
      "include_colab_link": true
    },
    "kernelspec": {
      "name": "python3",
      "display_name": "Python 3"
    },
    "language_info": {
      "name": "python"
    }
  },
  "cells": [
    {
      "cell_type": "markdown",
      "metadata": {
        "id": "view-in-github",
        "colab_type": "text"
      },
      "source": [
        "<a href=\"https://colab.research.google.com/github/velugotivhr/DeepakReddyG/blob/main/Basic_Python_Programs.ipynb\" target=\"_parent\"><img src=\"https://colab.research.google.com/assets/colab-badge.svg\" alt=\"Open In Colab\"/></a>"
      ]
    },
    {
      "source": [
        "#  Leap Year\n",
        "def is_leap_year(year):\n",
        "    if (year % 4 == 0 and (year % 100 != 0 or year % 400 == 0)):\n",
        "        return True\n",
        "    else:\n",
        "        return False\n",
        "\n",
        "year = int(input(\"Enter a year: \"))\n",
        "if is_leap_year(year):\n",
        "    print(year, \"is a leap year\")\n",
        "else:\n",
        "    print(year, \"is not a leap year\")"
      ],
      "cell_type": "code",
      "metadata": {
        "colab": {
          "base_uri": "https://localhost:8080/"
        },
        "id": "EgIvtsUFkWXm",
        "outputId": "31081469-34c9-455d-dd8e-d263cef3585d"
      },
      "execution_count": null,
      "outputs": [
        {
          "output_type": "stream",
          "name": "stdout",
          "text": [
            "Enter a year: 2024\n",
            "2024 is a leap year\n"
          ]
        }
      ]
    },
    {
      "source": [
        "#Factorial of a number\n",
        "def factorial(n):\n",
        "  if n == 0:\n",
        "    return 1\n",
        "  else:\n",
        "    return n * factorial(n - 1)\n",
        "\n",
        "number = int(input(\"Enter a number: \"))\n",
        "result = factorial(number)\n",
        "print(\"The factorial of\", number, \"is\", result)"
      ],
      "cell_type": "code",
      "metadata": {
        "colab": {
          "base_uri": "https://localhost:8080/"
        },
        "id": "Ru92LBY_kgzJ",
        "outputId": "f6f2efdd-dbd7-48c1-a11e-1f6606f346fb"
      },
      "execution_count": null,
      "outputs": [
        {
          "output_type": "stream",
          "name": "stdout",
          "text": [
            "Enter a number: 5\n",
            "The factorial of 5 is 120\n"
          ]
        }
      ]
    },
    {
      "source": [
        "#Odd Nymber or  Even Number\n",
        "n = int(input(\"Enter a number: \"))\n",
        "if n % 2 == 0:\n",
        "    print(\"even\")\n",
        "else:\n",
        "    print(\"odd\")"
      ],
      "cell_type": "code",
      "metadata": {
        "colab": {
          "base_uri": "https://localhost:8080/"
        },
        "id": "hxz2miLClk57",
        "outputId": "4891756c-819b-46c3-8be2-d6856966215f"
      },
      "execution_count": null,
      "outputs": [
        {
          "output_type": "stream",
          "name": "stdout",
          "text": [
            "Enter a number: 70\n",
            "even\n"
          ]
        }
      ]
    },
    {
      "source": [
        "#Prime Number or Not\n",
        "def is_prime(n):\n",
        "  if n <= 1:\n",
        "    return False\n",
        "  for i in range(2, int(n**0.5) + 1):\n",
        "    if n % i == 0:\n",
        "      return False\n",
        "  return True\n",
        "\n",
        "number = int(input(\"Enter a number: \"))\n",
        "if is_prime(number):\n",
        "  print(number, \"is a prime number\")\n",
        "else:\n",
        "  print(number, \"is not a prime number\")"
      ],
      "cell_type": "code",
      "metadata": {
        "colab": {
          "base_uri": "https://localhost:8080/"
        },
        "id": "vLX4VUzwnfRN",
        "outputId": "ce19ffd9-67bf-40db-93dd-6558bebb523d"
      },
      "execution_count": null,
      "outputs": [
        {
          "output_type": "stream",
          "name": "stdout",
          "text": [
            "Enter a number: 5\n",
            "5 is a prime number\n"
          ]
        }
      ]
    },
    {
      "cell_type": "code",
      "source": [
        "# Sum of cube of N natural numbers\n",
        "n = int(input(\"Enter a number: \"))\n",
        "sum = 0\n",
        "for i in range(1, n + 1):\n",
        "    sum += i**3\n",
        "print(\"The sum of cubes of the first \", n, \"natural numbers is\", sum)\n"
      ],
      "metadata": {
        "colab": {
          "base_uri": "https://localhost:8080/"
        },
        "id": "VMvLrXqioL4j",
        "outputId": "461b017c-c270-42a2-ed99-0ef2d2b3e255"
      },
      "execution_count": null,
      "outputs": [
        {
          "output_type": "stream",
          "name": "stdout",
          "text": [
            "Enter a number: 2\n",
            "The sum of cubes of the first 2 natural numbers is 9\n"
          ]
        }
      ]
    },
    {
      "cell_type": "code",
      "source": [
        "#Number is Palindrome Number or not\n",
        "\n",
        "def is_palindrome(num):\n",
        "    temp = num\n",
        "    rev = 0\n",
        "    while temp > 0:\n",
        "        rev = (rev * 10) + (temp % 10)\n",
        "        temp //= 10\n",
        "    return rev == num\n",
        "# The following two lines were indented incorrectly, causing the error.\n",
        "num = int(input(\"Enter a number: \"))\n",
        "if is_palindrome(num):\n",
        "    print(num, \"is a palindrome number\")\n",
        "else:\n",
        "    print(num, \"is not a palindrome number\")\n"
      ],
      "metadata": {
        "colab": {
          "base_uri": "https://localhost:8080/"
        },
        "id": "bmzOWFuLpyfp",
        "outputId": "76044b12-eea7-4bd4-e783-bda1044cc3a7"
      },
      "execution_count": null,
      "outputs": [
        {
          "output_type": "stream",
          "name": "stdout",
          "text": [
            "Enter a number: 3\n",
            "3 is a palindrome number\n"
          ]
        }
      ]
    },
    {
      "cell_type": "code",
      "source": [
        "#Number is perfect or not\n",
        "def is_perfect(n):\n",
        "  if n <= 1:\n",
        "    return False\n",
        "  sum_divisors = 1\n",
        "  for i in range(2, int(n**0.5) + 1):\n",
        "    if n % i == 0:\n",
        "      sum_divisors += i\n",
        "      if i != n // i:\n",
        "        sum_divisors += n // i\n",
        "  return sum_divisors == n\n",
        "\n",
        "number = int(input(\"Enter a number: \"))\n",
        "if is_perfect(number):\n",
        "  print(number, \"is a perfect number\")\n",
        "else:\n",
        "  print(number, \"is not a perfect number\")"
      ],
      "metadata": {
        "colab": {
          "base_uri": "https://localhost:8080/"
        },
        "id": "Sig6vmNUto52",
        "outputId": "9b65a01d-e4ae-4ccc-ac03-1818d576da83"
      },
      "execution_count": 34,
      "outputs": [
        {
          "output_type": "stream",
          "name": "stdout",
          "text": [
            "Enter a number: 2\n",
            "2 is not a perfect number\n"
          ]
        }
      ]
    },
    {
      "cell_type": "code",
      "source": [],
      "metadata": {
        "id": "fCaipSEjuYUB"
      },
      "execution_count": null,
      "outputs": []
    }
  ]
}